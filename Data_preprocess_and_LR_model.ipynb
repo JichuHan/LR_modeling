{
 "cells": [
  {
   "cell_type": "markdown",
   "id": "de3285c9",
   "metadata": {},
   "source": [
    "目的为运用Logistic模型对利差进行建模，核心的问题在于非线性变量的处理。\n",
    "\n",
    "主要运用的方法是直接分区间dummy，分位数映射和WOE-IV，最后一种最好。\n",
    "\n",
    "当然也需要进行降维，方法就是PV过滤器"
   ]
  },
  {
   "cell_type": "code",
   "execution_count": null,
   "id": "52dadeef",
   "metadata": {},
   "outputs": [],
   "source": [
    "import pandas as pd\n",
    "import scorecardpy as sc\n",
    "from tqdm import tqdm\n",
    "from sklearn.model_selection import cross_val_score\n",
    "from sklearn.tree import DecisionTreeRegressor\n",
    "from sklearn.ensemble import RandomForestRegressor\n",
    "from sklearn.linear_model import LinearRegression as Lasso\n",
    "from sklearn.linear_model import LogisticRegression\n",
    "from sklearn.model_selection import train_test_split\n",
    "from sklearn.preprocessing import StandardScaler\n",
    "from sklearn.preprocessing import RobustScaler\n",
    "from sklearn.preprocessing import QuantileTransformer\n",
    "from sklearn.metrics import mean_squared_error \n",
    "from sklearn.metrics import mean_absolute_error \n",
    "from sklearn.metrics import r2_score \n",
    "from sklearn.metrics import accuracy_score\n",
    "from sklearn.metrics import precision_score\n",
    "from sklearn.metrics import confusion_matrix\n",
    "from sklearn.metrics import classification_report\n",
    "from sklearn.metrics import cohen_kappa_score\n",
    "from sklearn.metrics import f1_score\n",
    "from sklearn.metrics import SCORERS\n",
    "from scipy import stats\n",
    "import warnings\n",
    "warnings.filterwarnings(\"ignore\")\n",
    "import pickle\n",
    "import seaborn as sns\n",
    "import math\n",
    "import xgboost as xgb\n",
    "%matplotlib inline\n",
    "import matplotlib.pyplot as plt\n",
    "plt.rcParams['font.sans-serif']=['SimHei'] #用来正常显示中文标签\n",
    "plt.rcParams['axes.unicode_minus']=False #用来正常显示负号\n",
    "import numpy as np\n",
    "import statsmodels.api as sm\n",
    "import statsmodels.formula.api as smf\n",
    "from statsmodels.sandbox.regression.predstd import wls_prediction_std\n",
    "from statsmodels.stats.outliers_influence import variance_inflation_factor\n",
    "from datetime import timedelta\n",
    "from datetime import datetime\n",
    "from sklearn.linear_model import LinearRegression as LR,Ridge,Lasso\n",
    "def stand_sca(data):\n",
    "    new_data=(data-data.mean())/data.std()\n",
    "    return new_data\n",
    "def lag(df, period, colist):\n",
    "    df1 = df.copy(deep=True)\n",
    "    for col in colist:\n",
    "        df1[col + '-lag' + str(period)] = df1[col].shift(period)\n",
    "    return df1"
   ]
  },
  {
   "cell_type": "code",
   "execution_count": 2,
   "id": "26ab832f",
   "metadata": {},
   "outputs": [],
   "source": [
    "def log_map(x):\n",
    "    if x > 0 :\n",
    "        return 1\n",
    "    else:\n",
    "        return 0\n",
    "def onehot_encode(df, colnames, cut_type, bin_num):\n",
    "    df1 = df.copy(deep = True)\n",
    "    data_onehot = df1\n",
    "    interval_dic = {}\n",
    "    for colname in tqdm(colnames):\n",
    "        if cut_type == 'cut':\n",
    "            index_list = []\n",
    "            df1[colname + '_bin'] = pd.cut(df1[colname],bin_num)\n",
    "            df1 = df1.drop(columns = [colname])\n",
    "            for i in df1[colname + '_bin'].value_counts().index:\n",
    "                index_list.append(i)\n",
    "            interval_dic[colname] = index_list\n",
    "        if cut_type == 'qcut':\n",
    "            index_list = []\n",
    "            df1[colname + '_bin'] = pd.qcut(df1[colname],bin_num,duplicates = 'drop')\n",
    "            df1 = df1.drop(columns = [colname])\n",
    "            for i in df1[colname + '_bin'].value_counts().index:\n",
    "                index_list.append(i)\n",
    "            interval_dic[colname] = index_list\n",
    "    data_onehot = pd.get_dummies(df1)\n",
    "    return data_onehot,interval_dic\n",
    "\n",
    "\n",
    "def fit_index(x,index_list):\n",
    "    if x < float(index_list[0].left):\n",
    "        return index_list[0]\n",
    "    elif x > float(index_list[-1].right):\n",
    "        return index_list[-1]\n",
    "    else:\n",
    "        for idx in index_list:\n",
    "            if x in idx:\n",
    "                return idx\n",
    "        print(x)\n",
    "\n",
    "def tree_f(x,index_list):\n",
    "    if x < float(index_list[0].left):\n",
    "        return index_list[0]\n",
    "    elif x > float(index_list[-1].right):\n",
    "        return index_list[-1]\n",
    "    else:\n",
    "        for idx in index_list:\n",
    "            if x in idx:\n",
    "                return idx\n",
    "        print(x)\n",
    "        \n",
    "def onehot_fit(feature_list,interval_dic, df_fit):\n",
    "    for feature in tqdm(feature_list):\n",
    "        tmp_list = interval_dic[feature]\n",
    "        df_fit[feature + '_bin'] = df_fit[feature].apply(lambda x: fit_index(x, tmp_list)) \n",
    "        df_fit[feature + '_bin'] = df_fit[feature + '_bin'].astype('category')\n",
    "    df_fit = df_fit.drop(columns = feature_list)\n",
    "    return df_fit\n",
    "\n",
    "def tree_fit(feature_list,clf_df, df_fit):\n",
    "    for feature in feature_list:\n",
    "        tmp_list = clf_df[clf_df['feature'] == feature]\n",
    "        woe_dict = dict(zip(tmp_list['bins'],tmp_list['woe']))\n",
    "        tmp_list = clf_df[clf_df['feature'] == feature].bins.to_list()\n",
    "#         print(woe_dict)\n",
    "        df_fit[feature + '_woe'] = df_fit[feature].apply(lambda x: tree_f(x, tmp_list)) \n",
    "        df_fit[feature + '_woe'] = df_fit[feature + '_woe'].map(woe_dict)\n",
    "    df_fit = df_fit.drop(columns = feature_list)\n",
    "    return df_fit\n",
    "\n",
    "from sklearn.tree import DecisionTreeClassifier\n",
    "from sklearn import tree\n",
    "def optimal_binning_boundary(x: pd.Series, y: pd.Series, nan: float = -999.) -> list:\n",
    "    '''\n",
    "    利用决策树获得最优分箱的边界值列表\n",
    "    '''\n",
    "    boundary = []  # 待return的分箱边界值列表\n",
    "\n",
    "    x = x.fillna(nan).values  # 填充缺失值\n",
    "    y = y.values\n",
    "\n",
    "    clf = DecisionTreeClassifier(criterion='gini', max_depth = 3)  \n",
    "    clf.fit(x.reshape(-1, 1), y)  # 训练决策树\n",
    "#     tree.plot_tree(clf)\n",
    "    n_nodes = clf.tree_.node_count\n",
    "    children_left = clf.tree_.children_left\n",
    "    children_right = clf.tree_.children_right\n",
    "    threshold = clf.tree_.threshold\n",
    "    for i in range(n_nodes):\n",
    "        if children_left[i] != children_right[i]:  # 获得决策树节点上的划分边界值\n",
    "            boundary.append(threshold[i])\n",
    "\n",
    "    boundary.sort()\n",
    "\n",
    "    min_x = x.min()\n",
    "    max_x = x.max() + 0.1  # +0.1是为了考虑后续groupby操作时，能包含特征最大值的样本\n",
    "    boundary = [min_x] + boundary + [max_x]\n",
    "\n",
    "    return boundary\n",
    "\n",
    "\n",
    "def feature_woe_iv(x: pd.Series, y: pd.Series, nan: float = -999.) -> pd.DataFrame:\n",
    "    '''\n",
    "        计算变量各个分箱的WOE、IV值，返回一个DataFrame\n",
    "    '''\n",
    "    x = x.fillna(nan)\n",
    "    boundary = optimal_binning_boundary(x, y)  # 获得最优分箱边界值列表\n",
    "    df = pd.concat([x, y], axis=1)  # 合并x、y为一个DataFrame，方便后续计算\n",
    "    df.columns = ['x', 'y']  # 特征变量、目标变量字段的重命名\n",
    "    df['bins'] = pd.cut(x=x, bins=boundary, right=False)  # 获得每个x值所在的分箱区间,\n",
    "                                                           # right为False代表右边是开区间\n",
    "    grouped = df.groupby('bins')['y']  # 统计各分箱区间的好、坏、总客户数量\n",
    "    result_df = grouped.agg([('good', lambda y: (y == 0).sum()),\n",
    "                             ('bad', lambda y: (y == 1).sum()),\n",
    "                             ('total', 'count')])\n",
    "\n",
    "    result_df['good_pct'] = result_df['good'] / result_df['good'].sum()  # 好客户占比\n",
    "    result_df['bad_pct'] = result_df['bad'] / result_df['bad'].sum()  # 坏客户占比\n",
    "    result_df['total_pct'] = result_df['total'] / result_df['total'].sum()  # 总客户占比\n",
    "\n",
    "    result_df['bad_rate'] = result_df['bad'] / result_df['total']  # 坏比率\n",
    "\n",
    "    result_df['woe'] = np.log(result_df['good_pct'] / result_df['bad_pct'])  # WOE\n",
    "    result_df['iv'] = (result_df['good_pct'] - result_df['bad_pct']) * result_df['woe']  # IV\n",
    "\n",
    "#     print(f\"woe = {result_df['woe'].sum()}\")\n",
    "\n",
    "    return result_df"
   ]
  },
  {
   "cell_type": "markdown",
   "id": "d0dafe34",
   "metadata": {},
   "source": [
    "# 1. 读取数据"
   ]
  },
  {
   "cell_type": "code",
   "execution_count": 186,
   "id": "02b8fbbd",
   "metadata": {},
   "outputs": [],
   "source": [
    "#选取筛选后的线性指标\n",
    "liner_feature_df = pd.read_excel('线性回归指标筛选数据集.xlsx')\n",
    "#读取钢铁的数据\n",
    "df = pd.read_csv('panel_钢铁_enrich_v1_all.csv',encoding = 'gbk')\n",
    "df .rename(columns={'Unnamed: 0':'DATE'},inplace=True)\n",
    "df['DATE']=df['DATE'].map(lambda x:pd.to_datetime(x)) #Date 数据格式处理（resample步骤需要）\n",
    "df = df.set_index('DATE')\n",
    "#筛选掉一些列，只保留有效的X feature\n",
    "liner_feature = liner_feature_df.columns.to_list()\n",
    "try:\n",
    "    liner_feature.remove('Unnamed: 0')\n",
    "    liner_feature.remove('y1')\n",
    "    liner_feature.remove('y2')\n",
    "    liner_feature.remove('y3')\n",
    "except:\n",
    "    pass\n"
   ]
  },
  {
   "cell_type": "markdown",
   "id": "0a2d9789",
   "metadata": {},
   "source": [
    "通过族的匹配获得线性变量，这些性质都比较好，可以直接进行预测。对于非线性的变量，需要单领出来进行处理"
   ]
  },
  {
   "cell_type": "code",
   "execution_count": 187,
   "id": "d881f0a2",
   "metadata": {},
   "outputs": [
    {
     "data": {
      "text/plain": [
       "{'k_t',\n",
       " 'y1',\n",
       " 'y3',\n",
       " '周度_库存:主要钢材品种:合计',\n",
       " '周度_螺纹钢:吨毛利(周)',\n",
       " '周度_预计到货量:铁矿石:连云港',\n",
       " '日度_MySpic综合钢价指数',\n",
       " '月度_产量:粗钢:当月同比',\n",
       " '月度_钢铁行业采购经理人指数(PMI):全国'}"
      ]
     },
     "execution_count": 187,
     "metadata": {},
     "output_type": "execute_result"
    }
   ],
   "source": [
    "#主要要补充变量后缀的识别字符列表\n",
    "marklist=['_DIFF','_LAG','-']\n",
    "\n",
    "#LF是特征的名字，mark list是后缀识别表，返回名字中第一次出现这种后缀的位置\n",
    "#用来去除这些后缀\n",
    "def getN(LF,marklist):\n",
    "    n=len(LF)\n",
    "    #templist是所有包含在特征名字中的后缀\n",
    "    templist=[m for m in marklist if m in LF]\n",
    "    if len(templist)>0:\n",
    "        #n是第一次出现这种后缀的位置\n",
    "        n=min([LF.index(m) for m in templist])\n",
    "    return n\n",
    "\n",
    "liner_feature_cluster=[]\n",
    "for item in liner_feature:\n",
    "    #这些名字去除后缀\n",
    "    liner_feature_cluster.append(item[:getN(item,marklist)])\n",
    "liner_feature_cluster=list(set(liner_feature_cluster))\n",
    "#去除后缀后进行了去重，这一步应该是获得类别的名称\n",
    "liner_feature_cluster\n",
    "#分别把全部变量和线性变量放入到函数中获取对应的族，再通过数组相减获得非线性族数据\n",
    "#set([1,2,3,4,5])-set([2,3,4])\n",
    "\n",
    "#对这些变量名称进行删除后缀处理\n",
    "all_feature_list=list(df.columns.values)\n",
    "all_feature_list_cluste=[]\n",
    "for item in all_feature_list:\n",
    "    all_feature_list_cluste.append(item[:getN(item,marklist)])\n",
    "all_feature_list_cluste=list(set(all_feature_list_cluste))\n",
    "#看一下有哪些变量在liner_feature_cluster中没有\n",
    "set(all_feature_list_cluste)-set(liner_feature_cluster)"
   ]
  },
  {
   "cell_type": "markdown",
   "id": "97ba8793",
   "metadata": {},
   "source": [
    "截取时间，获得初步的XY"
   ]
  },
  {
   "cell_type": "code",
   "execution_count": 188,
   "id": "03beda4a",
   "metadata": {},
   "outputs": [],
   "source": [
    "Y = pd.DataFrame()\n",
    "Y['y2'] = df['y2']\n",
    "X0 = df.drop(columns = ['y2'])\n",
    "\n",
    "df_time_select = X0.copy()\n",
    "df_before2019 = df_time_select[X0.index < datetime.strptime('20190101',\"%Y%m%d\")].copy()\n",
    "df_after2019 = df_time_select[(X0.index >= datetime.strptime('20190101',\"%Y%m%d\")) &( X0.index <= datetime.strptime('20211021',\"%Y%m%d\"))].copy()\n",
    "feature_list = df_before2019.columns"
   ]
  },
  {
   "cell_type": "markdown",
   "id": "793ba75b",
   "metadata": {},
   "source": [
    "# 2. 相关性分析"
   ]
  },
  {
   "cell_type": "code",
   "execution_count": 189,
   "id": "ba0e70e6",
   "metadata": {},
   "outputs": [],
   "source": [
    "# corr_df = pd.DataFrame()\n",
    "# corr_df['feature'] =  X0.columns\n",
    "# corr_df['pearson'] =  0.0\n",
    "# corr_df['spearman'] =  0.0\n",
    "# corr_df['kendalltau'] =  0.0\n",
    "# corr_df = corr_df.set_index('feature')\n",
    "# for i in X0.columns:\n",
    "#     c,p = stats.pearsonr(X0[i].values, Y['y2'].values)\n",
    "#     s,p1 = stats.spearmanr(X0[i].values, Y['y2'].values)\n",
    "#     k, p2 = stats.kendalltau(X0[i].values, Y['y2'].values)\n",
    "#     corr_df['pearson'][i] = c\n",
    "#     corr_df['y2'][i] = s\n",
    "#     corr_df['kendalltau'][i] =  k\n",
    "# corr_df"
   ]
  },
  {
   "cell_type": "markdown",
   "id": "bdb54709",
   "metadata": {},
   "source": [
    "## 3. 处理非线性指标（以MySpic为例）"
   ]
  },
  {
   "cell_type": "code",
   "execution_count": 191,
   "id": "1a8409cc",
   "metadata": {},
   "outputs": [],
   "source": [
    "all_feature = X0.columns.to_list()\n",
    "all_feature.sort()\n",
    "noliner_feature = [\n",
    "'日度_MySpic综合钢价指数']\n",
    "X = X0.copy()"
   ]
  },
  {
   "cell_type": "code",
   "execution_count": 192,
   "id": "cc073fe9",
   "metadata": {},
   "outputs": [
    {
     "data": {
      "text/plain": [
       "(48, 741)"
      ]
     },
     "execution_count": 192,
     "metadata": {},
     "output_type": "execute_result"
    }
   ],
   "source": [
    "#f_list是未在线性回归中出现的族的所有衍生指标\n",
    "#发现其中有48个指标是非线性衍生的\n",
    "f_list = []\n",
    "cnt = 0\n",
    "for ff in noliner_feature:\n",
    "    tmp_list = [i for i in X.columns if ff in i]\n",
    "    cnt += len(tmp_list)\n",
    "    f_list.append(tmp_list)\n",
    "    if len(tmp_list) == 0:\n",
    "        print(ff)\n",
    "cnt,len(X.columns)"
   ]
  },
  {
   "cell_type": "markdown",
   "id": "29f86b63",
   "metadata": {},
   "source": [
    "### （1）决策树找重要特征，进行初步筛选"
   ]
  },
  {
   "cell_type": "markdown",
   "id": "fb7e8134",
   "metadata": {},
   "source": [
    "利用随机森林判断特征重要性，排序得到重要的特征"
   ]
  },
  {
   "cell_type": "code",
   "execution_count": 193,
   "id": "3080bd87",
   "metadata": {},
   "outputs": [],
   "source": [
    "tmp_train = df_before2019.join(Y)\n",
    "tmp_test = df_after2019.join(Y)"
   ]
  },
  {
   "cell_type": "code",
   "execution_count": 194,
   "id": "8a9567ad",
   "metadata": {},
   "outputs": [
    {
     "name": "stderr",
     "output_type": "stream",
     "text": [
      "100%|██████████| 1/1 [00:03<00:00,  3.04s/it]\n"
     ]
    },
    {
     "data": {
      "text/plain": [
       "['日度_MySpic综合钢价指数_LAG_90',\n",
       " '日度_MySpic综合钢价指数_LAG_240',\n",
       " '日度_MySpic综合钢价指数_DIFF_90_LAG_300',\n",
       " '日度_MySpic综合钢价指数_DIFF_360_LAG_270',\n",
       " '日度_MySpic综合钢价指数_LAG_60']"
      ]
     },
     "execution_count": 194,
     "metadata": {},
     "output_type": "execute_result"
    }
   ],
   "source": [
    "fnum = 5\n",
    "#划分20%80%测试训练集合\n",
    "X_train,X_test,Y_train,Y_test = train_test_split(tmp_train[:],tmp_train['y2'],test_size = 0.2,random_state = 43,shuffle=False)\n",
    "tree_importance_select = []\n",
    "#对于衍生的指标\n",
    "for lst in tqdm(f_list):\n",
    "    #设置深度为3，个数为1000的随机森林进行预测\n",
    "    regressor = RandomForestRegressor(n_estimators=100,random_state=0, max_depth = 3)\n",
    "    #挑选每一个衍生指标对应的一系列指标进行训练\n",
    "    regressor.fit(X_train[lst],Y_train)\n",
    "    #对特征重要性取4位小数，与名称对应，之后排序，取最大的5位，标记其特征名字\n",
    "    f = [i[1] for i in sorted(zip(map(lambda x: round(x, 4), regressor.feature_importances_), lst), reverse=True)[:fnum]]\n",
    "    #记录这些特征\n",
    "    tree_importance_select = tree_importance_select + f\n",
    "tree_importance_select"
   ]
  },
  {
   "cell_type": "code",
   "execution_count": 195,
   "id": "9a38a449",
   "metadata": {},
   "outputs": [],
   "source": [
    "#非线性衍生指标部分，就选择这些决策树挑选出来的有效力的指标\n",
    "df_before2019_noliner = df_before2019[tree_importance_select]\n",
    "df_after2019_noliner = df_after2019[tree_importance_select]\n",
    "#下面对这些有力的指标进行onehot编码，消除大波动"
   ]
  },
  {
   "cell_type": "markdown",
   "id": "e7c4267c",
   "metadata": {},
   "source": [
    "### （2）对筛选后的特征进行线性化"
   ]
  },
  {
   "cell_type": "markdown",
   "id": "2862950b",
   "metadata": {},
   "source": [
    "#### 【1】Onehot编码"
   ]
  },
  {
   "cell_type": "markdown",
   "id": "75c25438",
   "metadata": {},
   "source": [
    "用训练集进行映射，用结果在训练集上进行匹配，最后生成dummy"
   ]
  },
  {
   "cell_type": "code",
   "execution_count": 196,
   "id": "da27abd8",
   "metadata": {},
   "outputs": [
    {
     "name": "stderr",
     "output_type": "stream",
     "text": [
      "100%|██████████| 5/5 [00:00<00:00, 91.35it/s]\n"
     ]
    }
   ],
   "source": [
    "#这个函数的作用就是将X变量映射为onehot编码\n",
    "def onehot_encode(df, colnames, cut_type, bin_num):\n",
    "    df1 = df.copy(deep = True)\n",
    "    data_onehot = df1\n",
    "    interval_dic = {}\n",
    "    #对于每一个变量\n",
    "    for colname in tqdm(colnames):\n",
    "        if cut_type == 'cut':\n",
    "            index_list = []\n",
    "            #形成一个三分位区间，按照这个变量取的所有值为全集等分三个区间，每个变量匹配对应的区间\n",
    "            #原来的变量只保留区间，为了后续getdummies\n",
    "            df1[colname + '_bin'] = pd.cut(df1[colname],bin_num)\n",
    "            df1 = df1.drop(columns = [colname])\n",
    "            #对于每一个区间，放入indexlist\n",
    "            for i in df1[colname + '_bin'].value_counts().index:\n",
    "                index_list.append(i)\n",
    "            #这个变量对应的就是这三个区间\n",
    "            interval_dic[colname] = index_list\n",
    "        if cut_type == 'qcut':\n",
    "            index_list = []\n",
    "            df1[colname + '_bin'] = pd.qcut(df1[colname],bin_num,duplicates = 'drop')\n",
    "            df1 = df1.drop(columns = [colname])\n",
    "            for i in df1[colname + '_bin'].value_counts().index:\n",
    "                index_list.append(i)\n",
    "            interval_dic[colname] = index_list\n",
    "    #每个变量按照区间，映射到012这三个数上去\n",
    "    data_onehot = pd.get_dummies(df1)\n",
    "    return data_onehot,interval_dic\n",
    "\n",
    "# 通过决策树选出来的数据作为线性回归数据集的缺失族补充，进一步对决策树选出的重要特征进行热独处理\n",
    "ctype = 'cut'\n",
    "cnum = 3\n",
    "#对所选择的变量进行热处理\n",
    "df_before2019_noliner,interval_dic = onehot_encode(df_before2019_noliner,tree_importance_select,ctype,cnum) #df_before2019.columns\n"
   ]
  },
  {
   "cell_type": "code",
   "execution_count": 197,
   "id": "3c0139b0",
   "metadata": {},
   "outputs": [
    {
     "name": "stderr",
     "output_type": "stream",
     "text": [
      "100%|██████████| 5/5 [00:00<00:00, 16.75it/s]\n"
     ]
    }
   ],
   "source": [
    "#这个函数的作用是根据训练集上面的匹配逻辑对测试集进行onehot匹配\n",
    "def onehot_fit(feature_list,interval_dic, df_fit):\n",
    "    for feature in tqdm(feature_list):\n",
    "        #获得这个变量的所有区间（是一个list）\n",
    "        tmp_list = interval_dic[feature]\n",
    "        #用fitindex函数进行数值判断与映射\n",
    "        df_fit[feature + '_bin'] = df_fit[feature].apply(lambda x: fit_index(x, tmp_list)) \n",
    "        df_fit[feature + '_bin'] = df_fit[feature + '_bin'].astype('category')\n",
    "    #只保留onehot编码\n",
    "    df_fit = df_fit.drop(columns = feature_list)\n",
    "    return df_fit\n",
    "\n",
    "#这个函数用来判断一个值属于哪个区间\n",
    "def fit_index(x,index_list):\n",
    "    #先判断是否在所有区间的外面，如果是返回端点\n",
    "    if x < float(index_list[0].left):\n",
    "        return index_list[0]\n",
    "    elif x > float(index_list[-1].right):\n",
    "        return index_list[-1]\n",
    "    else:\n",
    "        #如果不在外面，匹配中间的每一个区间进行寻找\n",
    "        for idx in index_list:\n",
    "            if x in idx:\n",
    "                return idx\n",
    "        print(x)\n",
    "\n",
    "#利用之前训练集的onehot规则匹配测试集的onehot\n",
    "df_after2019_noliner = onehot_fit(tree_importance_select, interval_dic, df_after2019_noliner)  #list(interval_dic.keys())\n"
   ]
  },
  {
   "cell_type": "code",
   "execution_count": 199,
   "id": "a23fb79c",
   "metadata": {},
   "outputs": [
    {
     "data": {
      "text/plain": [
       "((2188, 15), (1025, 15))"
      ]
     },
     "execution_count": 199,
     "metadata": {},
     "output_type": "execute_result"
    }
   ],
   "source": [
    "#测试集变成dummy变量\n",
    "df_after2019_noliner = pd.get_dummies(df_after2019_noliner)\n",
    "#两组dummy数量不一定相同，肯定是训练集的多，所以找到多出来的，在测试集上全部设置为0\n",
    "add_list = set(df_before2019_noliner.columns.to_list()) - set(df_after2019_noliner.columns.to_list()) \n",
    "df_after2019_noliner[list(add_list)] = 0\n",
    "#发现有15个dummy变量，5*3\n",
    "df_before2019_noliner.shape,df_after2019_noliner.shape"
   ]
  },
  {
   "cell_type": "code",
   "execution_count": 200,
   "id": "c224a163",
   "metadata": {},
   "outputs": [],
   "source": [
    "#对于线性回归筛选的指标\n",
    "#删掉列里面的date和y\n",
    "df_before2019_liner=df_before2019[liner_feature[1:-1]]\n",
    "df_after2019_liner=df_after2019[liner_feature[1:-1]]\n",
    "#非线性指标的onehot之后加入训练测试集合\n",
    "tmp_train = df_before2019.join(Y).join(df_before2019_noliner)\n",
    "tmp_test = df_after2019.join(Y).join(df_after2019_noliner)\n",
    "#只挑选出来非线性onehot后部分和线性筛选的部分，设置成XY\n",
    "#也就是说，模型里只需要onehot后的非线性变量和线性变量\n",
    "liner_noliner_train=tmp_train[['y2']+liner_feature[1:-1]+tree_importance_select]\n",
    "X_ols=liner_noliner_train[[k for k in liner_noliner_train if ('y2' in k)==False]]\n",
    "y=liner_noliner_train['y2']"
   ]
  },
  {
   "cell_type": "markdown",
   "id": "aad0a808",
   "metadata": {},
   "source": [
    "#### 【2】PV筛选"
   ]
  },
  {
   "cell_type": "code",
   "execution_count": 201,
   "id": "78cb71c4",
   "metadata": {},
   "outputs": [],
   "source": [
    "def pvalue_filter(tmp_train, y, results, tgt=0.05):\n",
    "    flag = 0\n",
    "    while results.pvalues[1:].max() > tgt:\n",
    "        tmp_train = tmp_train.loc[:,results.pvalues<results.pvalues[1:].max()]\n",
    "        model = sm.OLS(y, sm.add_constant(X_ols))\n",
    "        results = model.fit()\n",
    "        \n",
    "        flag += 1\n",
    "        print(flag, results.pvalues[1:].max())\n",
    "    return X_ols, results, flag"
   ]
  },
  {
   "cell_type": "code",
   "execution_count": 202,
   "id": "226ec126",
   "metadata": {},
   "outputs": [],
   "source": [
    "def vif_filter(X_ols, y, vif_max):\n",
    "    vif_data = pd.DataFrame()\n",
    "    vif_data[\"feature\"] = X_ols.columns\n",
    "    \n",
    "    # calculating VIF for each feature\n",
    "    vif_data[\"VIF\"] = [variance_inflation_factor(X_ols.values, i)\n",
    "                            for i in range(len(X_ols.columns))]\n",
    "    \n",
    "    print(vif_data)\n",
    "    flag = 0\n",
    "    if vif_data['VIF'].max() >= vif_max:\n",
    "        feature_del = vif_data[vif_data['VIF'] == vif_data['VIF'].max()].sort_values(['feature'], ascending = [False])['feature'].reset_index(drop = True)[0]\n",
    "        print('VIF delete: ' + feature_del)\n",
    "        X_ols = X_ols.drop(feature_del, axis=1)\n",
    "        flag = 1\n",
    "    \n",
    "    model = sm.OLS(y, sm.add_constant(X_ols))\n",
    "    results = model.fit()\n",
    "    \n",
    "    return X_ols, results, flag"
   ]
  },
  {
   "cell_type": "code",
   "execution_count": 203,
   "id": "6f3831e8",
   "metadata": {},
   "outputs": [],
   "source": [
    "X_ols = X_ols.dropna(axis=1, how='any')\n",
    "X_ols=X_ols.drop_duplicates()"
   ]
  },
  {
   "cell_type": "code",
   "execution_count": 204,
   "id": "047dac16",
   "metadata": {},
   "outputs": [],
   "source": [
    "model = sm.OLS(y, sm.add_constant(X_ols))\n",
    "results = model.fit()"
   ]
  },
  {
   "cell_type": "code",
   "execution_count": 205,
   "id": "17000eb7",
   "metadata": {},
   "outputs": [
    {
     "name": "stdout",
     "output_type": "stream",
     "text": [
      "                                              feature           VIF\n",
      "0        日度_MySpic综合钢价指数_LAG_90_bin_(70.611, 102.111]  2.249973e+05\n",
      "1       日度_MySpic综合钢价指数_LAG_90_bin_(102.111, 133.516]  1.465279e+02\n",
      "2       日度_MySpic综合钢价指数_LAG_90_bin_(133.516, 164.922]  3.417921e+05\n",
      "3       日度_MySpic综合钢价指数_LAG_240_bin_(70.611, 102.111]  6.545541e+05\n",
      "4      日度_MySpic综合钢价指数_LAG_240_bin_(102.111, 133.516]  3.085868e+04\n",
      "5      日度_MySpic综合钢价指数_LAG_240_bin_(133.516, 164.922]  2.977291e+02\n",
      "6   日度_MySpic综合钢价指数_DIFF_90_LAG_300_bin_(-21.026, ...  1.395496e+02\n",
      "7   日度_MySpic综合钢价指数_DIFF_90_LAG_300_bin_(-2.793, 1...  3.555281e+04\n",
      "8   日度_MySpic综合钢价指数_DIFF_90_LAG_300_bin_(15.385, 3...  5.900267e+06\n",
      "9   日度_MySpic综合钢价指数_DIFF_360_LAG_270_bin_(-48.052,...  8.040936e+02\n",
      "10  日度_MySpic综合钢价指数_DIFF_360_LAG_270_bin_(-12.45, ...  6.116839e+04\n",
      "11  日度_MySpic综合钢价指数_DIFF_360_LAG_270_bin_(23.045, ...  1.202500e+06\n",
      "12       日度_MySpic综合钢价指数_LAG_60_bin_(70.611, 102.111]  1.183241e+05\n",
      "13      日度_MySpic综合钢价指数_LAG_60_bin_(102.111, 133.516]  3.910278e+03\n",
      "14      日度_MySpic综合钢价指数_LAG_60_bin_(133.516, 164.922]  3.558247e+03\n",
      "VIF delete: 日度_MySpic综合钢价指数_DIFF_90_LAG_300_bin_(15.385, 33.563]\n",
      "                                              feature           VIF\n",
      "0        日度_MySpic综合钢价指数_LAG_90_bin_(70.611, 102.111]  2.101036e+05\n",
      "1       日度_MySpic综合钢价指数_LAG_90_bin_(102.111, 133.516]  3.245416e+02\n",
      "2       日度_MySpic综合钢价指数_LAG_90_bin_(133.516, 164.922]  3.876029e+05\n",
      "3       日度_MySpic综合钢价指数_LAG_240_bin_(70.611, 102.111]  2.280042e+06\n",
      "4      日度_MySpic综合钢价指数_LAG_240_bin_(102.111, 133.516]  1.656205e+05\n",
      "5      日度_MySpic综合钢价指数_LAG_240_bin_(133.516, 164.922]  2.886000e+03\n",
      "6   日度_MySpic综合钢价指数_DIFF_90_LAG_300_bin_(-21.026, ...  4.148642e+00\n",
      "7   日度_MySpic综合钢价指数_DIFF_90_LAG_300_bin_(-2.793, 1...  3.471117e+00\n",
      "8   日度_MySpic综合钢价指数_DIFF_360_LAG_270_bin_(-48.052,...  8.920932e+02\n",
      "9   日度_MySpic综合钢价指数_DIFF_360_LAG_270_bin_(-12.45, ...  2.153988e+05\n",
      "10  日度_MySpic综合钢价指数_DIFF_360_LAG_270_bin_(23.045, ...  3.080839e+06\n",
      "11       日度_MySpic综合钢价指数_LAG_60_bin_(70.611, 102.111]  4.551030e+05\n",
      "12      日度_MySpic综合钢价指数_LAG_60_bin_(102.111, 133.516]  4.946250e+03\n",
      "13      日度_MySpic综合钢价指数_LAG_60_bin_(133.516, 164.922]  4.233814e+03\n",
      "VIF delete: 日度_MySpic综合钢价指数_DIFF_360_LAG_270_bin_(23.045, 58.541]\n",
      "                                              feature           VIF\n",
      "0        日度_MySpic综合钢价指数_LAG_90_bin_(70.611, 102.111]  2.151513e+06\n",
      "1       日度_MySpic综合钢价指数_LAG_90_bin_(102.111, 133.516]  1.149356e+04\n",
      "2       日度_MySpic综合钢价指数_LAG_90_bin_(133.516, 164.922]  2.817342e+03\n",
      "3       日度_MySpic综合钢价指数_LAG_240_bin_(70.611, 102.111]  2.646203e+06\n",
      "4      日度_MySpic综合钢价指数_LAG_240_bin_(102.111, 133.516]  2.457304e+04\n",
      "5      日度_MySpic综合钢价指数_LAG_240_bin_(133.516, 164.922]  1.740872e+03\n",
      "6   日度_MySpic综合钢价指数_DIFF_90_LAG_300_bin_(-21.026, ...  4.155737e+00\n",
      "7   日度_MySpic综合钢价指数_DIFF_90_LAG_300_bin_(-2.793, 1...  3.465558e+00\n",
      "8   日度_MySpic综合钢价指数_DIFF_360_LAG_270_bin_(-48.052,...  3.554543e+00\n",
      "9   日度_MySpic综合钢价指数_DIFF_360_LAG_270_bin_(-12.45, ...  2.831275e+00\n",
      "10       日度_MySpic综合钢价指数_LAG_60_bin_(70.611, 102.111]           inf\n",
      "11      日度_MySpic综合钢价指数_LAG_60_bin_(102.111, 133.516]           inf\n",
      "12      日度_MySpic综合钢价指数_LAG_60_bin_(133.516, 164.922]           inf\n",
      "VIF delete: 日度_MySpic综合钢价指数_LAG_60_bin_(70.611, 102.111]\n",
      "                                              feature       VIF\n",
      "0        日度_MySpic综合钢价指数_LAG_90_bin_(70.611, 102.111]       inf\n",
      "1       日度_MySpic综合钢价指数_LAG_90_bin_(102.111, 133.516]       inf\n",
      "2       日度_MySpic综合钢价指数_LAG_90_bin_(133.516, 164.922]       inf\n",
      "3       日度_MySpic综合钢价指数_LAG_240_bin_(70.611, 102.111]       inf\n",
      "4      日度_MySpic综合钢价指数_LAG_240_bin_(102.111, 133.516]       inf\n",
      "5      日度_MySpic综合钢价指数_LAG_240_bin_(133.516, 164.922]       inf\n",
      "6   日度_MySpic综合钢价指数_DIFF_90_LAG_300_bin_(-21.026, ...  4.172407\n",
      "7   日度_MySpic综合钢价指数_DIFF_90_LAG_300_bin_(-2.793, 1...  3.471509\n",
      "8   日度_MySpic综合钢价指数_DIFF_360_LAG_270_bin_(-48.052,...  3.577351\n",
      "9   日度_MySpic综合钢价指数_DIFF_360_LAG_270_bin_(-12.45, ...  2.834039\n",
      "10      日度_MySpic综合钢价指数_LAG_60_bin_(102.111, 133.516]  5.335602\n",
      "11      日度_MySpic综合钢价指数_LAG_60_bin_(133.516, 164.922]  9.158787\n",
      "VIF delete: 日度_MySpic综合钢价指数_LAG_90_bin_(70.611, 102.111]\n",
      "                                              feature       VIF\n",
      "0       日度_MySpic综合钢价指数_LAG_90_bin_(102.111, 133.516]  5.607915\n",
      "1       日度_MySpic综合钢价指数_LAG_90_bin_(133.516, 164.922]  9.399888\n",
      "2       日度_MySpic综合钢价指数_LAG_240_bin_(70.611, 102.111]  0.971649\n",
      "3      日度_MySpic综合钢价指数_LAG_240_bin_(102.111, 133.516]  1.530823\n",
      "4      日度_MySpic综合钢价指数_LAG_240_bin_(133.516, 164.922]  2.351351\n",
      "5   日度_MySpic综合钢价指数_DIFF_90_LAG_300_bin_(-21.026, ...  4.172407\n",
      "6   日度_MySpic综合钢价指数_DIFF_90_LAG_300_bin_(-2.793, 1...  3.471509\n",
      "7   日度_MySpic综合钢价指数_DIFF_360_LAG_270_bin_(-48.052,...  3.577351\n",
      "8   日度_MySpic综合钢价指数_DIFF_360_LAG_270_bin_(-12.45, ...  2.834039\n",
      "9       日度_MySpic综合钢价指数_LAG_60_bin_(102.111, 133.516]  5.335602\n",
      "10      日度_MySpic综合钢价指数_LAG_60_bin_(133.516, 164.922]  9.158787\n",
      "VIF delete: 日度_MySpic综合钢价指数_LAG_90_bin_(133.516, 164.922]\n",
      "                                             feature       VIF\n",
      "0      日度_MySpic综合钢价指数_LAG_90_bin_(102.111, 133.516]  2.652999\n",
      "1      日度_MySpic综合钢价指数_LAG_240_bin_(70.611, 102.111]  0.969798\n",
      "2     日度_MySpic综合钢价指数_LAG_240_bin_(102.111, 133.516]  1.496975\n",
      "3     日度_MySpic综合钢价指数_LAG_240_bin_(133.516, 164.922]  2.208516\n",
      "4  日度_MySpic综合钢价指数_DIFF_90_LAG_300_bin_(-21.026, ...  4.166367\n",
      "5  日度_MySpic综合钢价指数_DIFF_90_LAG_300_bin_(-2.793, 1...  3.465594\n",
      "6  日度_MySpic综合钢价指数_DIFF_360_LAG_270_bin_(-48.052,...  3.563283\n",
      "7  日度_MySpic综合钢价指数_DIFF_360_LAG_270_bin_(-12.45, ...  2.830708\n",
      "8      日度_MySpic综合钢价指数_LAG_60_bin_(102.111, 133.516]  3.730049\n",
      "9      日度_MySpic综合钢价指数_LAG_60_bin_(133.516, 164.922]  3.627745\n"
     ]
    }
   ],
   "source": [
    "flag = None\n",
    "while flag != 0:\n",
    "#     X_ols, results, flag = pvalue_filter(X_ols, y, results, 0.1)\n",
    "    df_before2019_noliner, results, flag = vif_filter(df_before2019_noliner, y, 5)"
   ]
  },
  {
   "cell_type": "code",
   "execution_count": 206,
   "id": "4d0c1be0",
   "metadata": {},
   "outputs": [],
   "source": [
    "df_before2019_noliner\n",
    "tmp_train = df_before2019[liner_feature[1:-1]].join(Y).join(df_before2019_noliner)\n",
    "tmp_test = df_after2019[liner_feature[1:-1]].join(Y).join(df_after2019_noliner[df_before2019_noliner.columns.values])"
   ]
  },
  {
   "cell_type": "markdown",
   "id": "1f0bd54c",
   "metadata": {},
   "source": [
    "#### 【3】分位数处理"
   ]
  },
  {
   "cell_type": "code",
   "execution_count": 207,
   "id": "879f82d3",
   "metadata": {},
   "outputs": [
    {
     "data": {
      "text/plain": [
       "((2188, 741), (1025, 741))"
      ]
     },
     "execution_count": 207,
     "metadata": {},
     "output_type": "execute_result"
    }
   ],
   "source": [
    "#对线性部分进行分位数映射\n",
    "quantile_transformer = QuantileTransformer(random_state=2001, n_quantiles=50)\n",
    "X_value = quantile_transformer.fit_transform(df_before2019[liner_feature[1:-1]])\n",
    "df_before2019[liner_feature[1:-1]] = X_value\n",
    "X_value1 = quantile_transformer.transform(df_after2019[liner_feature[1:-1]])\n",
    "df_after2019[liner_feature[1:-1]] = X_value1\n",
    "df_before2019.shape,df_after2019.shape"
   ]
  },
  {
   "cell_type": "markdown",
   "id": "05b39e27",
   "metadata": {},
   "source": [
    "#### 【4】 决策树分箱   分类树+WOE"
   ]
  },
  {
   "cell_type": "markdown",
   "id": "c6a32423",
   "metadata": {},
   "source": [
    "第一步是对每个变量进行X-Y的决策树分类，获得分箱，每个分箱计算woe系数，也就是这个分箱内y=1占的比例，作为X\n",
    "\n",
    "这样做相当于把测试的X进行聚类，每个聚类运用分类能力的置信度WOE来替换，IV是评价分箱有效性用的，这种映射关系运用到训练集上面。\n",
    "\n",
    "非常像onehot编码，有两点改进。第一是分类的区间是学习出来的，第二是可以让逻辑回归ln后呈现线性分布，与逻辑回归假设统一，让总体效果更加可信。\n",
    "\n",
    "https://zhuanlan.zhihu.com/p/74165987"
   ]
  },
  {
   "cell_type": "code",
   "execution_count": 208,
   "id": "208a531e",
   "metadata": {},
   "outputs": [],
   "source": [
    "from sklearn.tree import DecisionTreeClassifier\n",
    "from sklearn import tree\n",
    "#这个函数输入一个X和Y，利用决策树输出节点分类结果（因为这是一维数据，因此直接就是一系列boundaries）\n",
    "def optimal_binning_boundary(x: pd.Series, y: pd.Series, nan: float = -999.) -> list:\n",
    "    '''\n",
    "    利用决策树获得最优分箱的边界值列表\n",
    "    '''\n",
    "    boundary = []  # 待return的分箱边界值列表\n",
    "\n",
    "    x = x.fillna(nan).values  # 填充缺失值\n",
    "    y = y.values\n",
    "\n",
    "    clf = DecisionTreeClassifier(criterion='gini', max_depth = 3)  \n",
    "    #将Xreshape为一个二维矩阵进行训练，注意这里Y必须为二值变量\n",
    "    clf.fit(x.reshape(-1, 1), y)  # 训练决策树\n",
    "#     tree.plot_tree(clf)\n",
    "    #获得节点数量\n",
    "    n_nodes = clf.tree_.node_count\n",
    "    #获得所有节点左孩子的编号，如果是叶子就是-1\n",
    "    children_left = clf.tree_.children_left\n",
    "    #获得所有节点右孩子的编号，如果是叶子就是-1\n",
    "    children_right = clf.tree_.children_right\n",
    "    #获得所有节点的划分阈值\n",
    "    threshold = clf.tree_.threshold\n",
    "    #获得划分边界值\n",
    "    for i in range(n_nodes):\n",
    "        if children_left[i] != children_right[i]:  # 获得决策树节点上的划分边界值\n",
    "            boundary.append(threshold[i])\n",
    "    #将边界值进行排序\n",
    "    boundary.sort()\n",
    "    #获得划分的区间。这里划分区间是决策树给予的\n",
    "    min_x = x.min()\n",
    "    max_x = x.max() + 0.1  # +0.1是为了考虑后续groupby操作时，能包含特征最大值的样本\n",
    "    boundary = [min_x] + boundary + [max_x]\n",
    "\n",
    "    return boundary\n",
    "\n",
    "#进入的是一个X，一个Y（进行01处理后），输出result_df\n",
    "#方法就是根据决策树对X进行分类，每个类别统计y为01和总体的个数，对这些类别计算各种比例，获得WOE和IV系数，大概就是y=1占据的比例\n",
    "def feature_woe_iv(x: pd.Series, y: pd.Series, nan: float = -999.) -> pd.DataFrame:\n",
    "    '''\n",
    "        计算变量各个分箱的WOE、IV值，返回一个DataFrame\n",
    "    '''\n",
    "    x = x.fillna(nan)\n",
    "    boundary = optimal_binning_boundary(x, y)  # 获得最优分箱边界值列表\n",
    "    df = pd.concat([x, y], axis=1)  # 合并x、y为一个DataFrame，方便后续计算\n",
    "    df.columns = ['x', 'y']  # 特征变量、目标变量字段的重命名\n",
    "    df['bins'] = pd.cut(x=x, bins=boundary, right=False)  # 获得每个x值所在的分箱区间,\n",
    "                                                           # right为False代表右边是开区间\n",
    "    grouped = df.groupby('bins')['y']  # 统计各分箱区间的好、坏、总客户数量\n",
    "    result_df = grouped.agg([('good', lambda y: (y == 0).sum()),\n",
    "                             ('bad', lambda y: (y == 1).sum()),\n",
    "                             ('total', 'count')])\n",
    "\n",
    "    result_df['good_pct'] = result_df['good'] / result_df['good'].sum()  # 好客户占比\n",
    "    result_df['bad_pct'] = result_df['bad'] / result_df['bad'].sum()  # 坏客户占比\n",
    "    result_df['total_pct'] = result_df['total'] / result_df['total'].sum()  # 总客户占比\n",
    "\n",
    "    result_df['bad_rate'] = result_df['bad'] / result_df['total']  # 坏比率\n",
    "\n",
    "    result_df['woe'] = np.log(result_df['good_pct'] / result_df['bad_pct'])  # WOE\n",
    "    result_df['iv'] = (result_df['good_pct'] - result_df['bad_pct']) * result_df['woe']  # IV\n",
    "    \n",
    "    return result_df"
   ]
  },
  {
   "cell_type": "code",
   "execution_count": 209,
   "id": "f7873dfd",
   "metadata": {},
   "outputs": [],
   "source": [
    "import warnings\n",
    "warnings.filterwarnings(\"ignore\")\n",
    "#将非线性变量，决策树认为很重要的变量进行进一步探索\n",
    "tmp_train = df_before2019[tree_importance_select].join(Y)\n",
    "tmp_test = df_after2019[tree_importance_select].join(Y)\n",
    "flag = 0\n",
    "#获得变量的分箱结果\n",
    "clf_df = pd.DataFrame()\n",
    "for i in tmp_train.columns:\n",
    "    #对于所有的X变量\n",
    "    if i != 'y2':\n",
    "        #进行决策树分箱，获得这个变量的各个分箱的woe和iv系数\n",
    "        result_df = feature_woe_iv(tmp_train[i],tmp_train['y2'].map(log_map))\n",
    "        result_df = result_df.reset_index()\n",
    "        result_df['feature'] = i\n",
    "        #将result_df进行堆叠，其中feature是每个变量的名字，相当于是一个名字——分箱——系数的长表\n",
    "        if flag == 0:\n",
    "            flag = 1\n",
    "            clf_df = result_df\n",
    "        else:\n",
    "            clf_df = pd.concat([clf_df,result_df])\n",
    "clf_df['woe'].replace(np.inf, 8, inplace = True)\n",
    "clf_df['woe'].replace(-np.inf, -8, inplace = True)\n",
    "#clf_df"
   ]
  },
  {
   "cell_type": "code",
   "execution_count": 210,
   "id": "b3cecac1",
   "metadata": {},
   "outputs": [
    {
     "data": {
      "image/png": "[encoded data removed]",
      "text/plain": [
       "<Figure size 1440x1440 with 1 Axes>"
      ]
     },
     "metadata": {
      "needs_background": "light"
     },
     "output_type": "display_data"
    }
   ],
   "source": [
    "#测试版本\n",
    "x = tmp_train['日度_MySpic综合钢价指数_DIFF_90_LAG_300']\n",
    "y = tmp_train['y2'].map(log_map)\n",
    "x.values.reshape(-1,1)\n",
    "clf = DecisionTreeClassifier(criterion='gini', max_depth = 3)  \n",
    "#将Xreshape为一个二维矩阵进行训练\n",
    "clf.fit(x.values.reshape(-1, 1), y.values)  # 训练决策树\n",
    "plt.figure(figsize=(20,20))\n",
    "tree.plot_tree(clf)\n",
    "\n",
    "n_nodes = clf.tree_.node_count\n",
    "children_left = clf.tree_.children_left\n",
    "children_right = clf.tree_.children_right\n",
    "threshold = clf.tree_.threshold"
   ]
  },
  {
   "cell_type": "code",
   "execution_count": 211,
   "id": "bd60f8ab",
   "metadata": {},
   "outputs": [],
   "source": [
    "def tree_f(x,index_list):\n",
    "    if x < float(index_list[0].left):\n",
    "        return index_list[0]\n",
    "    elif x > float(index_list[-1].right):\n",
    "        return index_list[-1]\n",
    "    else:\n",
    "        for idx in index_list:\n",
    "            if x in idx:\n",
    "                return idx\n",
    "        print(x)\n",
    "        \n",
    "def tree_fit(feature_list,clf_df, df_fit):\n",
    "    for feature in feature_list:\n",
    "        #选出这个变量的分类树评价结果\n",
    "        tmp_list = clf_df[clf_df['feature'] == feature]\n",
    "        #将分类结果区间和woe进行映射\n",
    "        woe_dict = dict(zip(tmp_list['bins'],tmp_list['woe']))\n",
    "        tmp_list = clf_df[clf_df['feature'] == feature].bins.to_list()\n",
    "        #将X映射到树的区间上，将区间映射到woe系数上，作为X处理后的结果\n",
    "        df_fit[feature + '_woe'] = df_fit[feature].apply(lambda x: tree_f(x, tmp_list)) \n",
    "        df_fit[feature + '_woe'] = df_fit[feature + '_woe'].map(woe_dict)\n",
    "    df_fit = df_fit.drop(columns = feature_list)\n",
    "    return df_fit\n",
    "\n",
    "#将分箱结果进行运用\n",
    "feature_list = tree_importance_select\n",
    "df_before2019 = tree_fit(feature_list, clf_df, df_before2019)\n",
    "df_after2019 = tree_fit(feature_list, clf_df, df_after2019)\n",
    "# feature_list"
   ]
  },
  {
   "cell_type": "markdown",
   "id": "46aaa19a",
   "metadata": {},
   "source": [
    "## 4. 模型构建"
   ]
  },
  {
   "cell_type": "code",
   "execution_count": 214,
   "id": "47b4d226",
   "metadata": {
    "scrolled": true
   },
   "outputs": [],
   "source": [
    "tmp_train = df_before2019.join(Y).join(df_before2019_noliner)\n",
    "tmp_test = df_after2019.join(Y).join(df_after2019_noliner)"
   ]
  },
  {
   "cell_type": "code",
   "execution_count": 215,
   "id": "7d31bcb2",
   "metadata": {},
   "outputs": [],
   "source": [
    "Y['y2'] = Y['y2'].map(log_map)\n",
    "tmp_train['y2'] = tmp_train['y2'].map(log_map)\n",
    "tmp_test['y2'] = tmp_test['y2'].map(log_map)"
   ]
  },
  {
   "cell_type": "code",
   "execution_count": 216,
   "id": "783a7589",
   "metadata": {
    "scrolled": false
   },
   "outputs": [
    {
     "data": {
      "text/plain": [
       "['日度_MySpic综合钢价指数',\n",
       " '月度_出口金额:钢材:当月值_DIFF_3',\n",
       " 'DEBT_ASSET_RATIO_DIFF_3_LAG_8',\n",
       " '周度_综合平均价格指数：环渤海动力煤（Q5500K)_DIFF_4_LAG_21',\n",
       " 'MONETARY_CAP_OVER_SHORT_TERM_LAG_6',\n",
       " 'k_t_k_t-30',\n",
       " '日度_中国铁矿石价格指数(CIOPI)_DIFF_30_LAG_270',\n",
       " 'OUTSTANDING_DIFF_30_DIFF_90_LAG_300',\n",
       " '月度_黑色金属冶炼及压延加工业:亏损企业单位数_DIFF_3_LAG_6',\n",
       " '月度_进口金额:钢材:当月值_DIFF_3_LAG_2',\n",
       " 'DEBT_ASSET_RATIO_DIFF_3_LAG_4',\n",
       " 'OUTSTANDING_DIFF_30_LAG_60']"
      ]
     },
     "execution_count": 216,
     "metadata": {},
     "output_type": "execute_result"
    }
   ],
   "source": [
    "res = noliner_feature + liner_feature\n",
    "if 'y2' in res:\n",
    "    res.remove('y2')\n",
    "if 'DATE' in res:\n",
    "    res.remove('DATE')\n",
    "res"
   ]
  },
  {
   "cell_type": "code",
   "execution_count": 218,
   "id": "a5738283",
   "metadata": {},
   "outputs": [],
   "source": [
    "tmp_train=tmp_train.dropna()"
   ]
  },
  {
   "cell_type": "code",
   "execution_count": 219,
   "id": "517e69b9",
   "metadata": {},
   "outputs": [],
   "source": [
    "#划分训练集和测试集\n",
    "X_train,X_test,Y_train,Y_test = train_test_split(tmp_train[[k for k in tmp_train.columns.values if ('y2' in k)==False]],tmp_train['y2'],test_size = 0.2,random_state = 43,shuffle=False)\n",
    "res=[k for k in tmp_train.columns.values if ('y2' in k)==False]"
   ]
  },
  {
   "cell_type": "code",
   "execution_count": 220,
   "id": "6075d58c",
   "metadata": {},
   "outputs": [],
   "source": [
    "# alphas = []\n",
    "# score = []\n",
    "# for alpha in tqdm(range(50,1,-1)):\n",
    "#     alphas.append(alpha/1000)\n",
    "#     logit = LogisticRegression(penalty= 'l1', C = alpha,solver='liblinear')\n",
    "#     sc = cross_val_score(logit,X_train[res],Y_train,scoring = \"f1\", cv = 3)\n",
    "#     score.append(sc.mean())\n",
    "# plt.plot(alphas,score)\n",
    "# plt.show()"
   ]
  },
  {
   "cell_type": "code",
   "execution_count": 221,
   "id": "0c5c94fc",
   "metadata": {},
   "outputs": [],
   "source": [
    "# tmp = pd.DataFrame(zip(alphas,score))#alphas\n",
    "# best = tmp[tmp[1] == tmp[1].max()][0].values[0]\n",
    "# best"
   ]
  },
  {
   "cell_type": "code",
   "execution_count": 222,
   "id": "fa52943a",
   "metadata": {
    "scrolled": false
   },
   "outputs": [
    {
     "name": "stdout",
     "output_type": "stream",
     "text": [
      "751 52\n"
     ]
    }
   ],
   "source": [
    "logit = LogisticRegression(penalty= 'l1', C = 0.015,solver='liblinear') #, C = 0.01,solver='liblinear',max_iter = 10000\n",
    "# logit = LogisticRegression(penalty= 'l2')\n",
    "result_log = logit.fit(X_train, Y_train) \n",
    "\n",
    "fit_log = result_log.predict(X_train)\n",
    "test_log = result_log.predict(X_test)\n",
    "pred_log = result_log.predict(tmp_test[res])\n",
    "tmp = pd.DataFrame(zip(res,result_log.coef_[0]))#\n",
    "ll = tmp[tmp[1]!=0][0].to_list()\n",
    "ll.sort()\n",
    "print(len(res),len(ll))\n",
    "# tmp[tmp[1]!=0].to_excel('钢铁' + str(cnum) + '|' + str(best) + '.xlsx')"
   ]
  },
  {
   "cell_type": "code",
   "execution_count": null,
   "id": "e4037145",
   "metadata": {},
   "outputs": [],
   "source": []
  },
  {
   "cell_type": "markdown",
   "id": "aadcaaa9",
   "metadata": {},
   "source": [
    "## 训练"
   ]
  },
  {
   "cell_type": "code",
   "execution_count": 223,
   "id": "101bd91a",
   "metadata": {},
   "outputs": [
    {
     "name": "stdout",
     "output_type": "stream",
     "text": [
      "分类准确率： 0.9779411764705882\n",
      "混淆矩阵：\n",
      " [[260   7]\n",
      " [  5 272]]\n",
      "分类报告：\n",
      "               precision    recall  f1-score   support\n",
      "\n",
      "           0       0.98      0.97      0.98       267\n",
      "           1       0.97      0.98      0.98       277\n",
      "\n",
      "    accuracy                           0.98       544\n",
      "   macro avg       0.98      0.98      0.98       544\n",
      "weighted avg       0.98      0.98      0.98       544\n",
      "\n"
     ]
    }
   ],
   "source": [
    "print('分类准确率：',accuracy_score(Y_train,fit_log))\n",
    "print('混淆矩阵：\\n',confusion_matrix(Y_train,fit_log))\n",
    "print('分类报告：\\n',classification_report(Y_train,fit_log))"
   ]
  },
  {
   "cell_type": "markdown",
   "id": "849e2136",
   "metadata": {},
   "source": [
    "## 测试"
   ]
  },
  {
   "cell_type": "code",
   "execution_count": 224,
   "id": "49c3eb4b",
   "metadata": {},
   "outputs": [
    {
     "name": "stdout",
     "output_type": "stream",
     "text": [
      "分类准确率： 0.43795620437956206\n",
      "混淆矩阵：\n",
      " [[31 40]\n",
      " [37 29]]\n",
      "分类报告：\n",
      "               precision    recall  f1-score   support\n",
      "\n",
      "           0       0.46      0.44      0.45        71\n",
      "           1       0.42      0.44      0.43        66\n",
      "\n",
      "    accuracy                           0.44       137\n",
      "   macro avg       0.44      0.44      0.44       137\n",
      "weighted avg       0.44      0.44      0.44       137\n",
      "\n"
     ]
    }
   ],
   "source": [
    "print('分类准确率：',accuracy_score(Y_test,test_log))\n",
    "print('混淆矩阵：\\n',confusion_matrix(Y_test,test_log))\n",
    "print('分类报告：\\n',classification_report(Y_test,test_log))"
   ]
  },
  {
   "cell_type": "markdown",
   "id": "5e30736a",
   "metadata": {},
   "source": [
    "## 样本外"
   ]
  },
  {
   "cell_type": "code",
   "execution_count": 225,
   "id": "0615878c",
   "metadata": {},
   "outputs": [
    {
     "name": "stdout",
     "output_type": "stream",
     "text": [
      "分类准确率： 0.535609756097561\n",
      "混淆矩阵：\n",
      " [[355 273]\n",
      " [203 194]]\n",
      "分类报告：\n",
      "               precision    recall  f1-score   support\n",
      "\n",
      "           0       0.64      0.57      0.60       628\n",
      "           1       0.42      0.49      0.45       397\n",
      "\n",
      "    accuracy                           0.54      1025\n",
      "   macro avg       0.53      0.53      0.52      1025\n",
      "weighted avg       0.55      0.54      0.54      1025\n",
      "\n"
     ]
    }
   ],
   "source": [
    "print('分类准确率：',accuracy_score(tmp_test['y2'],pred_log))\n",
    "print('混淆矩阵：\\n',confusion_matrix(tmp_test['y2'],pred_log))\n",
    "print('分类报告：\\n',classification_report(tmp_test['y2'],pred_log))"
   ]
  },
  {
   "cell_type": "code",
   "execution_count": 226,
   "id": "19f106a6",
   "metadata": {},
   "outputs": [
    {
     "data": {
      "image/png": "[encoded data removed]",
      "text/plain": [
       "<Figure size 576x432 with 1 Axes>"
      ]
     },
     "metadata": {
      "needs_background": "light"
     },
     "output_type": "display_data"
    }
   ],
   "source": [
    "fig, ax = plt.subplots(figsize=(8,6))\n",
    "ax.plot(Y_train.index, Y_train, color = 'blue', label='log_Sample')##\n",
    "ax.plot(Y_train.index, fit_log, 'r.',linewidth = 3, label='Fitting')##\n",
    "ax.legend(loc='best')\n",
    "plt.xlabel('period')\n",
    "plt.ylabel('y2')\n",
    "plt.show()"
   ]
  },
  {
   "cell_type": "code",
   "execution_count": 227,
   "id": "dba75e79",
   "metadata": {},
   "outputs": [
    {
     "data": {
      "image/png": "[encoded data removed]",
      "text/plain": [
       "<Figure size 576x432 with 1 Axes>"
      ]
     },
     "metadata": {
      "needs_background": "light"
     },
     "output_type": "display_data"
    }
   ],
   "source": [
    "fig, ax = plt.subplots(figsize=(8,6))\n",
    "ax.plot(Y_test.index, Y_test, color = 'blue', label='log_Sample')##\n",
    "ax.plot(Y_test.index, test_log, 'r.',linewidth = 3, label='Fitting')##\n",
    "ax.legend(loc='best')\n",
    "plt.xlabel('period')\n",
    "plt.ylabel('y2')\n",
    "plt.show()"
   ]
  },
  {
   "cell_type": "code",
   "execution_count": 228,
   "id": "2d3c2f34",
   "metadata": {},
   "outputs": [
    {
     "data": {
      "image/png": "[encoded data removed]",
      "text/plain": [
       "<Figure size 576x432 with 1 Axes>"
      ]
     },
     "metadata": {
      "needs_background": "light"
     },
     "output_type": "display_data"
    }
   ],
   "source": [
    "fig, ax = plt.subplots(figsize=(8,6))  \n",
    "ax.plot(tmp_test.index, tmp_test['y2'], color = 'blue', label='log_Sample')\n",
    "ax.plot(tmp_test.index, pred_log, 'r.',linewidth = 3, label='Fitting')\n",
    "ax.legend(loc='best')\n",
    "plt.xlabel('period')\n",
    "plt.ylabel('y2')\n",
    "plt.show()"
   ]
  },
  {
   "cell_type": "code",
   "execution_count": null,
   "id": "fb83e192",
   "metadata": {},
   "outputs": [],
   "source": []
  },
  {
   "cell_type": "code",
   "execution_count": null,
   "id": "c3c21d87",
   "metadata": {},
   "outputs": [],
   "source": []
  }
 ],
 "metadata": {
  "kernelspec": {
   "display_name": "Python 3",
   "language": "python",
   "name": "python3"
  },
  "language_info": {
   "codemirror_mode": {
    "name": "ipython",
    "version": 3
   },
   "file_extension": ".py",
   "mimetype": "text/x-python",
   "name": "python",
   "nbconvert_exporter": "python",
   "pygments_lexer": "ipython3",
   "version": "3.8.8"
  }
 },
 "nbformat": 4,
 "nbformat_minor": 5
}
